{
 "cells": [
  {
   "cell_type": "markdown",
   "metadata": {
    "id": "3T-0ApV462gi"
   },
   "source": [
    "# Obrada informacija\n",
    "\n",
    "## Laboratorijska vježba 2\n",
    "\n",
    "U ovoj vježbi upoznat ćete se s jednom primjenom tehnika obrade informacija u bioinformatici. Ova laboratorijska vježba nosi 4 boda. Izvješće s ove laboratorijske vježbe potrebno je predati u .pdf formatu na *Moodle*. Izvješće koje predajete se mora zvati *PrezimeIme.pdf*. \n",
    "\n",
    "Osim biblioteka za rad s Fourierovom transformacijom (koristit ćemo samo numpy) koristit ćemo i biblioteku biopython koja sadrži puno korisnih alata iz područja bioinformatike. Mi ćemo je koristiti za jednostavnije baratanje bioinformatičkim tipovima podataka.\n",
    "\n",
    "Biblioteka biopython dolazi s instalacijom Anaconde, ali ju je potrebno uključiti u okolinu (*environment*) koja se koristi.\n",
    "\n",
    "Ako vježbu izvodite u Google Colab okruženju, morate instalirati biblioteku biopython. Instalaciju je potrebno izvršiti u sklopu prvog zadatka ove laboratorijske vježbe. Instalaciju izvodite sljedećim kodom: \n",
    "\n",
    "    try:\n",
    "      import google.colab\n",
    "      !pip install biopython\n",
    "    except ImportError:\n",
    "      pass\n",
    "\n",
    "Nakon izvođenja ovog koda, možete učitati biopython biblioteku. "
   ]
  },
  {
   "cell_type": "markdown",
   "metadata": {
    "id": "sDnAktLV62gk"
   },
   "source": [
    "1. Zadatak\n",
    "\n",
    "Python biblioteke potrebne za laboratorijske vježbe su numpy i biopython. Uključite ih (\"importirajte\") i ispišite verziju svake od njih pomoću \\[ime_biblioteke\\].__version__.\n",
    "\n",
    "UPUTA: Osnovna biopython biblioteka ima naziv Bio."
   ]
  },
  {
   "cell_type": "code",
   "execution_count": 1,
   "metadata": {
    "id": "zr1maIcq62gm",
    "tags": []
   },
   "outputs": [
    {
     "name": "stdout",
     "output_type": "stream",
     "text": [
      "numpy 1.24.3\n",
      "biopython 1.78\n"
     ]
    }
   ],
   "source": [
    "# Ovo je mjesto na kojem možete izvoditi svoj kod.\n",
    "import numpy as np\n",
    "import Bio\n",
    "from Bio import SeqIO\n",
    "\n",
    "print(f\"numpy {np.__version__}\")\n",
    "print(f\"biopython {Bio.__version__}\")"
   ]
  },
  {
   "cell_type": "markdown",
   "metadata": {
    "id": "B2yvoqWo62gu"
   },
   "source": [
    "2. Zadatak\n",
    "\n",
    "Uz laboratorijske vježbe dobili ste dvije datoteke s podacima. Datoteku koja sadrži referentni genom jednog soja bakterije  Escherichia coli (escherichia_coli_reference.fasta) u FASTA formatu i datoteku koja sadrži skup očitanja dobivenih sekvenciranjem (ecoli_ILL_small.fastq) u FASTQ formatu.\n",
    "\n",
    "Datoteke možete učitati koristeći metodu _parse()_ iz biblioteke Bio.SeqIO. Metoda _parse()_ vraća iterator koji možete pretvoriti u Python listu na sljedeći način:\n",
    "\n",
    "    reads = list(parse(\"ime_datoteke\", \"tip_datoteke\"))\n",
    "\n",
    "Tip datoteke postavite na \"fasta\" ili \"fastq\".\n",
    "\n",
    "Učitajte obje datoteke te ispišite broj zapisa u svakoj od njih (broj elemenata u listi). Datoteka koja sadrži referencu trebala bi imati samo jedan zapis, dok bi datoteka s očitanjima trebala sadržavati veći broj zapisa.\n",
    "\n",
    "NAPOMENA: Ako niste sigurni kako pronaći datoteke na disku iz Jupyter notebook-a, uvijek možete provjeriti radni direktorij sljedećim naredbama:\n",
    "\n",
    "    import os\n",
    "    os.getcwd()\n",
    "\n",
    "i promijeniti ga sa:\n",
    "\n",
    "    os.chdir()\n",
    "\n",
    "Ako pak radite u Google Colab okruženju, koristite upute za učitavanje datoteka s Google diska iz prve laboratorijske vježbe. "
   ]
  },
  {
   "cell_type": "code",
   "execution_count": 2,
   "metadata": {
    "id": "-ntxEv0M62gv"
   },
   "outputs": [
    {
     "name": "stdout",
     "output_type": "stream",
     "text": [
      "Broj zapisa datoteke koja sadrži referencu: 1\n",
      "Broj zapisa datoteke koja sadrži očitanja: 38585\n"
     ]
    }
   ],
   "source": [
    "# Ovo je mjesto na kojem možete izvoditi svoj kod. \n",
    "file_path_fasta = \"/Users/dominik/Desktop/Obrada informacija/Lab2/escherichia_coli_reference.fasta\"\n",
    "\n",
    "file_path_fastq = \"/Users/dominik/Desktop/Obrada informacija/Lab2/ecoli_ILL_small.fastq\"\n",
    "\n",
    "reference = list(SeqIO.parse(file_path_fasta, \"fasta\"))\n",
    "reads = list(SeqIO.parse(file_path_fastq, \"fastq\"))\n",
    "\n",
    "print(f\"Broj zapisa datoteke koja sadrži referencu: {len(reference)}\")\n",
    "print(f\"Broj zapisa datoteke koja sadrži očitanja: {len(reads)}\")"
   ]
  },
  {
   "cell_type": "markdown",
   "metadata": {
    "id": "szNf-DeN62g1"
   },
   "source": [
    "3. Zadatak\n",
    "\n",
    "Svaki zapis koji ste učitali pomoću metode _Bio.SeqIO.parse()_ sadrži Veći broj podataka od kojih su nam bitni samo neki. Naredbom print ispišite cijeli prvi zapis iz datoteke s očitanjima i iz datoteke s referencom.\n",
    "\n",
    "Vidjet ćete da oba zapisa (među ostalim podacima) sadrže identifikator zapisa i sekvencu. Identifikator zapisa možete dohvatiti pomoću\n",
    "\n",
    "    zapis.id\n",
    "\n",
    "dok sekvencu možete dohvatiti pomoću\n",
    "\n",
    "    zapis.seq\n",
    "\n",
    "Ispišite identifikator i sekvencu za prvo očitanje te identifikator i prvih 200 znakova za referentni genom E.coli.\n",
    "\n",
    "NAPOMENA: Referentni genom Escherichia coli je dugačak oko 4.5 milijuna slova"
   ]
  },
  {
   "cell_type": "code",
   "execution_count": 3,
   "metadata": {
    "id": "uJhYsfdg62g2"
   },
   "outputs": [
    {
     "name": "stdout",
     "output_type": "stream",
     "text": [
      "Prvi zapis datoteke s očitanjima\n",
      "ID: SRR2052522.671\n",
      "Name: SRR2052522.671\n",
      "Description: SRR2052522.671 HWI-EAS390_0001:4:1:6915:1123/1\n",
      "Number of features: 0\n",
      "Per letter annotation for: phred_quality\n",
      "Seq('GATCTGGTGACCGGGTCGCGCAAAGTGATCATCGCCATGGAACATTGCGCCAAA...TGC')\n",
      "\n",
      "Prvi(jedini) zapis datoteke s referencom\n",
      "ID: NC_000913.3\n",
      "Name: NC_000913.3\n",
      "Description: NC_000913.3 Escherichia coli str. K-12 substr. MG1655, complete genome\n",
      "Number of features: 0\n",
      "Seq('AGCTTTTCATTCTGACTGCAACGGGCAATATGTCTCTGTGTGGATTAAAAAAAG...TTC')\n",
      "\n",
      "Prvo očitanje\n",
      "ID: SRR2052522.671\n",
      "Seq: GATCTGGTGACCGGGTCGCGCAAAGTGATCATCGCCATGGAACATTGCGCCAAAGATGGTTCAGCAAAAATTTTGGGCCTCTGTATCATGCCACTCACTGCGCAATATCCGGATCAAATGC\n",
      "\n",
      "Referentni genom prvih 200\n",
      "ID: NC_000913.3\n",
      "Seq: AGCTTTTCATTCTGACTGCAACGGGCAATATGTCTCTGTGTGGATTAAAAAAAGAGTGTCTGATAGCAGCTTCTGAACTGGTTACCTGCCGTGAGTAAATTAAAATTTTATTGACTTAGGTCACTAAATACTTTAACCAATATAGGCATAGCGCACAGACAGATAAAAATTACAGAGTACACAACATCCATGAAACGCAT\n"
     ]
    }
   ],
   "source": [
    "# Ovo je mjesto na kojem možete izvoditi svoj kod.\n",
    "print(f\"Prvi zapis datoteke s očitanjima\\n{reads[0]}\\n\")\n",
    "print(f\"Prvi(jedini) zapis datoteke s referencom\\n{reference[0]}\\n\")\n",
    "\n",
    "print(f\"Prvo očitanje\\nID: {reads[0].id}\\nSeq: {reads[0].seq}\\n\")\n",
    "print(f\"Referentni genom prvih 200\\nID: {reference[0].id}\\nSeq: {reference[0].seq[:200]}\")\n"
   ]
  },
  {
   "cell_type": "markdown",
   "metadata": {
    "id": "rGr9V2i262g8"
   },
   "source": [
    "4. Zadatak\n",
    "\n",
    "Da bismo sekvence DNA analizirali metodama obrade signala, moramo pojednim nukleotidima (slovima) dodijeliti brojčane vrijednosti. Napišite funkciju u Pythonu koja će primiti slovo koje predstavlja nukleotid i vratiti odgovarajuću brojčanu vrijednost. Vrijednosti dodijelite na sljedeći način:\n",
    "\n",
    "- A =  3\n",
    "- G =  2\n",
    "- C = -2\n",
    "- T = -3\n",
    "\n",
    "DNA sekvence mogu sadržavati i neke druge znakove (npr. 'N' koji označava da taj nuklotid nije poznat), njima dodijelite vrijednost 0. Također se može dogoditi da nukleotidi budu označeni i malim slovima, pa vodite računa da vaša funkcija mora vratiti ispravnu vrijendost i u tom slučaju."
   ]
  },
  {
   "cell_type": "code",
   "execution_count": 4,
   "metadata": {
    "id": "C25vmeTs62g-"
   },
   "outputs": [],
   "source": [
    "# Ovo je mjesto na kojem možete izvoditi svoj kod. \n",
    "nuc2num = {}\n",
    "nuc2num['A'] = 3\n",
    "nuc2num['G'] = 2\n",
    "nuc2num['C'] = -2\n",
    "nuc2num['T'] = -3\n",
    "\n",
    "\n",
    "def parse_nuc(nuc):\n",
    "    value = 0\n",
    "    if nuc.upper() in nuc2num:\n",
    "        value = nuc2num.get(nuc.upper())\n",
    "    return value\n",
    "\n",
    "# testing\n",
    "\n",
    "# seq1='AGCTNagctNMOP'\n",
    "\n",
    "# string = ''\n",
    "# for s in seq1:\n",
    "#     val = parse_nuc(s)\n",
    "#     string = string + str(val) + ' '\n",
    "    \n",
    "# print(string)\n",
    "\n",
    "# output is 3 2 -2 -3 0 3 2 -2 -3 0 0 0 0 "
   ]
  },
  {
   "cell_type": "markdown",
   "metadata": {
    "id": "AYPQrVck62hD"
   },
   "source": [
    "5. Zadatak\n",
    "\n",
    "Upotrebite napisanu funkciju da bi od prvog očitanja i od reference kreirali signal. Izračunajte korelaciju pomoću Fourierove transformacije. Zanemarite imaginarne vrijednosti."
   ]
  },
  {
   "cell_type": "code",
   "execution_count": 5,
   "metadata": {
    "id": "7kxDSpto62hF"
   },
   "outputs": [
    {
     "name": "stdout",
     "output_type": "stream",
     "text": [
      "Correlation by FFT:\n",
      "[-0.92307692-4.44089210e-15j  0.30769231+1.86213181e-15j\n",
      " -0.15384615-5.05601992e-15j ... -1.38461538+3.57227567e-15j\n",
      " -1.84615385-8.04796621e-15j -0.61538462-1.03855894e-14j]\n",
      "k = 2324486\n"
     ]
    }
   ],
   "source": [
    "# Ovo je mjesto na kojem možete izvoditi svoj kod. \n",
    "signal_reference = [parse_nuc(nuc) for nuc in reference[0].seq]\n",
    "signal_first = [parse_nuc(nuc) for nuc in reads[0].seq]\n",
    "    \n",
    "len_reference = len(signal_reference)\n",
    "len_first = len(signal_first)\n",
    "k_arr = range(-len_first + 1, len_reference)\n",
    "\n",
    "avg = np.average(list(nuc2num.values()))\n",
    "std = np.std(list(nuc2num.values()))\n",
    "\n",
    "signal_reference = [(x-avg)/std for x in signal_reference]\n",
    "signal_first = [(x-avg)/std for x in signal_first]\n",
    "\n",
    "padding_reference = [0] * (len_first - 1) \n",
    "padding_first = [0] * (len_reference - 1)\n",
    "\n",
    "X_ref = np.fft.fft(padding_reference + signal_reference)\n",
    "X_fst = np.fft.fft(signal_first + padding_first)\n",
    "Cor = np.conjugate(X_fst) * X_ref\n",
    "cor = np.fft.ifft(Cor)\n",
    "\n",
    "k = k_arr[cor.argmax()]\n",
    "print(\"Correlation by FFT:\")\n",
    "print(cor)\n",
    "print(\"k = {}\".format(k))"
   ]
  },
  {
   "cell_type": "markdown",
   "metadata": {
    "id": "nftB8Mj062hK"
   },
   "source": [
    "6. Zadatak\n",
    "\n",
    "Ispišite duljinu reference. Koristeći metode biblioteke _numpy_, izračunajte srednju vrijednost i standardnu devijaciju duljine očitanja (uzmite u obzir sva očitanja).\n",
    "\n",
    "Primijetit ćete da su sva očitanja jednake duljine."
   ]
  },
  {
   "cell_type": "code",
   "execution_count": 6,
   "metadata": {
    "id": "pSI7dEKd62hL"
   },
   "outputs": [
    {
     "name": "stdout",
     "output_type": "stream",
     "text": [
      "Duljina reference: 4641652\n",
      "Srednja vrijednost duljine očitanja: 121.0\n",
      "Standardna devijacija duljine očitanja: 0.0\n"
     ]
    }
   ],
   "source": [
    "# Ovo je mjesto na kojem možete izvoditi svoj kod. \n",
    "print(\"Duljina reference: {}\".format(len_reference))\n",
    "\n",
    "len_reads = [len(x.seq) for x in reads]\n",
    "\n",
    "avg_reads = np.mean(len_reads)\n",
    "std_reads = np.std(len_reads)\n",
    "\n",
    "print(f\"Srednja vrijednost duljine očitanja: {avg_reads}\")\n",
    "print(f\"Standardna devijacija duljine očitanja: {std_reads}\")\n"
   ]
  },
  {
   "cell_type": "markdown",
   "metadata": {
    "id": "y6A6sHAQ62hS"
   },
   "source": [
    "7. zadatak\n",
    "\n",
    "Što ako želimo izračunati korelaciju za veći broj očitanja i istu referencu? To je tipičan slučaj u bioinformatici jer uređaji za sekvenciranje proizvode tisuće i desetke tisuća očitanja koja se potom mapiraju na istu referencu.\n",
    "\n",
    "Ako korelaciju računamo izravno, potrebno ju je svaki put izračunati iz početka. Ako korelaciju računamo pomoću FFT-a, transformaciju za referencu potrebno je napraviti samo jednom.\n",
    "\n",
    "Izračunajte korelacije za prvih 10 očitanja."
   ]
  },
  {
   "cell_type": "code",
   "execution_count": 7,
   "metadata": {
    "id": "F8mSvUQb62hT"
   },
   "outputs": [
    {
     "name": "stdout",
     "output_type": "stream",
     "text": [
      "Correlation by FFT reading 1:\n",
      "[-2.35339362+5.32907052e-15j  0.78446454-2.27121682e-14j\n",
      " -0.39223227-7.42103756e-15j ... -3.53009043+8.25889496e-15j\n",
      " -4.70678724+1.13112010e-14j -1.56892908-4.31368224e-15j]\n",
      "k = 2324486\n",
      "Correlation by FFT reading 2:\n",
      "[ 3.53009043e+00+1.95399252e-14j  2.13162809e-14+1.77637127e-15j\n",
      " -7.45241314e+00-1.77847077e-15j ... -3.53009043e+00+2.06933144e-14j\n",
      " -5.09901951e+00-1.47615161e-14j -2.35339362e+00-1.58552422e-15j]\n",
      "k = 1877260\n",
      "Correlation by FFT reading 3:\n",
      "[-2.35339362-7.10542736e-15j -5.09901951+6.35546990e-16j\n",
      " -4.31455497+1.82883080e-14j ... -7.06018086+1.62953504e-14j\n",
      " -3.9223227 +6.61348552e-15j -1.56892908+5.45630742e-15j]\n",
      "k = 557777\n",
      "Correlation by FFT reading 4:\n",
      "[ 3.53009043-2.22044605e-14j -1.17669681-1.96665613e-14j\n",
      " -2.35339362+2.56396342e-14j ... -3.53009043+2.82426497e-14j\n",
      " -1.96116135+8.63578923e-15j -2.35339362+3.50518536e-14j]\n",
      "k = 1144877\n",
      "Correlation by FFT reading 5:\n",
      "[ 3.53009043e+00+1.42108547e-14j  2.13163169e-14-5.15143339e-14j\n",
      " -6.27571632e+00+5.60785366e-15j ...  3.92232270e-01-7.62859843e-15j\n",
      " -1.96116135e+00+1.04121220e-14j -2.35339362e+00-1.97931809e-14j]\n",
      "k = 3583639\n",
      "Correlation by FFT reading 6:\n",
      "[ 2.35339362+2.04281037e-14j  3.9223227 +1.61132484e-14j\n",
      "  3.53009043-2.06958612e-14j ... -8.23687768+7.42799480e-15j\n",
      " -5.09901951-3.91864418e-14j -2.35339362-6.47052687e-15j]\n",
      "k = 4051518\n",
      "Correlation by FFT reading 7:\n",
      "[-2.35339362e+00+2.13162821e-14j  1.96116135e+00-6.59832771e-15j\n",
      "  6.27571632e+00+5.93858121e-15j ... -3.53009043e+00+1.15359474e-15j\n",
      "  5.32909216e-15-7.99359135e-15j  1.56892908e+00+3.80644357e-14j]\n",
      "k = 2293706\n",
      "Correlation by FFT reading 8:\n",
      "[ 2.35339362-1.06581410e-14j  5.09901951+3.80532467e-15j\n",
      " -2.74562589+1.42217456e-14j ...  3.53009043+1.83868120e-14j\n",
      "  1.96116135-2.68435430e-14j  2.35339362-1.12930557e-14j]\n",
      "k = 1011323\n",
      "Correlation by FFT reading 9:\n",
      "[-3.53009043+1.06581410e-14j -5.88348405-2.46139511e-14j\n",
      " -3.53009043-3.79239181e-14j ... -4.70678724+2.72209484e-15j\n",
      " -5.88348405-2.24983280e-14j -2.35339362-2.15695483e-14j]\n",
      "k = 628546\n",
      "Correlation by FFT reading 10:\n",
      "[-2.35339362-1.33226763e-14j -3.9223227 -2.79058079e-15j\n",
      "  2.35339362+3.20919343e-14j ... -2.35339362+1.20191668e-14j\n",
      " -1.17669681+4.82618366e-15j -2.35339362+9.51673067e-15j]\n",
      "k = 1497921\n"
     ]
    }
   ],
   "source": [
    "# Ovo je mjesto na kojem možete izvoditi svoj kod. \n",
    "for i, read in enumerate(reads[:10]):\n",
    "    signal_read = [parse_nuc(nuc) for nuc in read.seq]\n",
    "    \n",
    "    X_read = np.fft.fft(signal_read + padding_first)\n",
    "    Cor = np.conjugate(X_read) * X_ref\n",
    "    cor = np.fft.ifft(Cor)\n",
    "\n",
    "    k = k_arr[cor.argmax()]\n",
    "    print(f\"Correlation by FFT reading {i + 1}:\")\n",
    "    print(cor)\n",
    "    print(\"k = {}\".format(k))"
   ]
  },
  {
   "cell_type": "markdown",
   "metadata": {
    "id": "y4Cme55c62hb"
   },
   "source": [
    "8. zadatak\n",
    "\n",
    "Na temelju najveće vrijednosti korelacije između reference i prvog očitanja pronađite poziciju na referenci koja je najsličnija očitanju. Pozicija odgovara vrijednosti parametra k za koji je korelacija najveća.\n",
    "\n",
    "Napišite metodu koja će primiti dva niza znakova jednake duljine, usporediti znakove na istim pozicijama i vratiti broj razlika (Hammingova udaljenost).\n",
    "\n",
    "\"Izrežite\" dio reference koji je najsličniji očitanju (iste duljine kao i očitanje) i usporedite ga s očitanjem pomoću napisane funkcije."
   ]
  },
  {
   "cell_type": "code",
   "execution_count": 8,
   "metadata": {
    "id": "Yu0fsZUt62hc"
   },
   "outputs": [
    {
     "name": "stdout",
     "output_type": "stream",
     "text": [
      "Razlika između izrezanog dijela reference i prvog očitanja: 9\n"
     ]
    }
   ],
   "source": [
    "# Ovo je mjesto na kojem možete izvoditi svoj kod. \n",
    "\n",
    "def get_hamming_dist(seq1, seq2):\n",
    "    return sum(seq1[i] != seq2[i] for i in range(len(seq1))) # vraca zbroj razlika izmedu 2 stringa jednakih duljina\n",
    "\n",
    "pos = 2324486 # ovo je korelacija izmedu reference i prvog ocitanja\n",
    "\n",
    "seq_cut = reference[0].seq[pos:pos + len(reads[0].seq)]\n",
    "\n",
    "diff = get_hamming_dist(seq_cut, reads[0].seq)\n",
    "print(f\"Razlika između izrezanog dijela reference i prvog očitanja: {diff}\")"
   ]
  },
  {
   "cell_type": "markdown",
   "metadata": {
    "id": "k7Ne7pfy62hh"
   },
   "source": [
    "9. zadatak\n",
    "\n",
    "U datoteci \"ecoli_ILL_small_aln.sam\" dana su već izračunata poravnanja svih očitanja na referencu u SAM formatu. SAM je tekstualni \"tab separated\" format. U prvom stupcu se nalati identifikator očitanja, dok se u četvrtom stupcu nalazi pozicija na referenci na koju je očitanje najbolje poravnato (ostali stupci nas ne zanimaju). Također, datoteka s poravnanjima sadrži i nekoliko _header_ readaka kojima prvi stupac počinje sa znakom '@', njih također možete zanemariti.\n",
    "\n",
    "Otvorite datoteku s poravnanjima i pronađite poravnanje za prvo očitanje (identifikator očitanja u datoteci s očitanjima i datoteci s poravnanjima mora biti jednak). Usporedite poziciju u datoteci sa pozicijom koju ste dobili pomoću korelacije.\n",
    "\n",
    "UPOUTA: TSV datoteke možete otvoriti na sljedeći način:\n",
    "\n",
    "    tsv_file = open(\"file_name\")\n",
    "    tsv_rows = csv.reader(tsv_file, delimiter=\"\\t\")\n",
    "\n",
    "Varijabla _tsv\\_rows_ će sadržavati listu redaka, a svaki redak biti lista vrijednosti (po jedna za svaki stupac)."
   ]
  },
  {
   "cell_type": "code",
   "execution_count": 9,
   "metadata": {
    "id": "s4dMPoJR62hi",
    "scrolled": true
   },
   "outputs": [
    {
     "name": "stdout",
     "output_type": "stream",
     "text": [
      "Pozicija poravnanja iz datoteke = 2324487\n",
      "Pozicija poravnanja iz korelacije = 2324486\n"
     ]
    }
   ],
   "source": [
    "# Ovo je mjesto na kojem možete izvoditi svoj kod.\n",
    "import csv # potrebno importati za citanje tsv filea\n",
    "tsv_file = open(\"/Users/dominik/Desktop/Obrada informacija/Lab2/ecoli_ILL_small_aln.sam\")\n",
    "tsv_rows = list(csv.reader(tsv_file, delimiter=\"\\t\"))\n",
    "for line in tsv_rows:\n",
    "    if line[0] == reads[0].id:\n",
    "        print(f\"Pozicija poravnanja iz datoteke = {line[3]}\\nPozicija poravnanja iz korelacije = {pos}\")\n",
    "        \n"
   ]
  },
  {
   "cell_type": "markdown",
   "metadata": {
    "id": "fdVXO79s62ho"
   },
   "source": [
    "10. zadatak\n",
    "\n",
    "Za prvo očitanje pozicija dobivena pomoću korelacije trabala bi biti 2324486, dok je pozicija u datoteci s poravnanjima 2324487. Razlikuju se samo za 1 pa možemo zaključiti da nam je korelacija dala dobru poziciju za poravnanje.\n",
    "\n",
    "Prisjetimo se da korelacija ne računa točno poravnanje već ju koristimo samo da bi našli kandidatne pozicije za točno računanje. Tek onda na takvim pozicijama možemo točno poravnanje izračunati pomoću algoritama dinamičkog programiranja. Ako bi primijenili dinamičko programiranje za računanje poravnanja očitanja s cijelom referencom, postupak bi bio znatno sporiji i zahtijevao bi veliku količinu radne memorije.\n",
    "\n",
    "**Ako želite** to možete isprobati pomoću algoritama za poravnanje u biblioteci _bioparser_. Lokalno poravnanje možete izračunati metodom:\n",
    "\n",
    "    Bio.pairwise2.align.localxx(seq1, seq2)\n",
    "\n",
    "Za prvih 100 očitanja izračunajte korelaciju te pomoću korelacije poziciju najveće sličnosti očitanja i reference. Usporedite rezultat sa podacima u datoteci s poravnanjima. Ispišite broj očitanja za koja se dvije pozicije razlikuju za najviše 5 mjesta."
   ]
  },
  {
   "cell_type": "code",
   "execution_count": 10,
   "metadata": {
    "id": "g-f-TyxR62hp"
   },
   "outputs": [
    {
     "name": "stdout",
     "output_type": "stream",
     "text": [
      "Broj očitanja za koja se 2 pozicije razlikuju za najviše 5 mjesta: 50\n"
     ]
    }
   ],
   "source": [
    "# Ovo je mjesto na kojem možete izvoditi svoj kod.\n",
    "\n",
    "# from Bio import pairwise2\n",
    "# alignments = pairwise2.align.localxx('CAGGTAC', 'AGGTAC')\n",
    "# print(alignments)\n",
    "# [Alignment(seqA='CAGGTAC', seqB='-AGGTAC', score=6.0, start=1, end=7)]\n",
    "\n",
    "counter = 0\n",
    "for i, read in enumerate(reads[:100]):\n",
    "    signal_read = [parse_nuc(nuc) for nuc in read.seq]\n",
    "    \n",
    "    X_read = np.fft.fft(signal_read + padding_first)\n",
    "    Cor = np.conjugate(X_read) * X_ref\n",
    "    cor = np.fft.ifft(Cor)\n",
    "\n",
    "    k = k_arr[cor.argmax()]\n",
    "   \n",
    "    for line in tsv_rows:\n",
    "        if line[0] == read.id:\n",
    "            if np.abs(int(line[3]) - k) < 6:\n",
    "                counter = counter + 1\n",
    "            \n",
    "print(f\"Broj očitanja za koja se 2 pozicije razlikuju za najviše 5 mjesta: {counter}\")\n"
   ]
  },
  {
   "cell_type": "markdown",
   "metadata": {
    "id": "wgHiDpSh62hv"
   },
   "source": [
    "11. ZAKLJUČAK\n",
    "\n",
    "Očekivani broj točno pozicioniranih očitanja je 50, jer smo za sada uspješno radili samo s očitanjima na jednom lancu DNA.\n",
    "\n",
    "Prolaskom kroz zadatke u ovoj vježbi dobili ste kratak uvod u rad s bioinformatičkim podacima i tehnikama obrade signala."
   ]
  }
 ],
 "metadata": {
  "colab": {
   "collapsed_sections": [],
   "name": "2LabVjezba_OI.ipynb",
   "provenance": []
  },
  "kernelspec": {
   "display_name": "Python 3 (ipykernel)",
   "language": "python",
   "name": "python3"
  },
  "language_info": {
   "codemirror_mode": {
    "name": "ipython",
    "version": 3
   },
   "file_extension": ".py",
   "mimetype": "text/x-python",
   "name": "python",
   "nbconvert_exporter": "python",
   "pygments_lexer": "ipython3",
   "version": "3.11.5"
  }
 },
 "nbformat": 4,
 "nbformat_minor": 4
}
